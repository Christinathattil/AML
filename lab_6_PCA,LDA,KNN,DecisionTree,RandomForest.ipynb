{
  "nbformat": 4,
  "nbformat_minor": 0,
  "metadata": {
    "colab": {
      "provenance": [],
      "authorship_tag": "ABX9TyMV+UyDEwE/X/SyJfnyZqKF",
      "include_colab_link": true
    },
    "kernelspec": {
      "name": "python3",
      "display_name": "Python 3"
    },
    "language_info": {
      "name": "python"
    }
  },
  "cells": [
    {
      "cell_type": "markdown",
      "metadata": {
        "id": "view-in-github",
        "colab_type": "text"
      },
      "source": [
        "<a href=\"https://colab.research.google.com/github/Christinathattil/AML/blob/Main/lab_6_PCA%2CLDA%2CKNN%2CDecisionTree%2CRandomForest.ipynb\" target=\"_parent\"><img src=\"https://colab.research.google.com/assets/colab-badge.svg\" alt=\"Open In Colab\"/></a>"
      ]
    },
    {
      "cell_type": "code",
      "execution_count": null,
      "metadata": {
        "id": "FRz5j2Heo8Qf"
      },
      "outputs": [],
      "source": [
        "from sklearn.datasets import load_breast_cancer, load_iris, load_diabetes\n",
        "from sklearn.decomposition import PCA\n",
        "from sklearn.discriminant_analysis import LinearDiscriminantAnalysis\n",
        "from sklearn.model_selection import train_test_split\n",
        "from sklearn.preprocessing import StandardScaler\n",
        "from sklearn.neighbors import KNeighborsClassifier\n",
        "from sklearn.tree import DecisionTreeClassifier\n",
        "from sklearn.ensemble import RandomForestClassifier\n",
        "from sklearn import metrics"
      ]
    },
    {
      "cell_type": "code",
      "source": [
        "# Load datasets\n",
        "breast_cancer_data = load_breast_cancer()\n",
        "iris_data = load_iris()\n",
        "diabetes_data = load_diabetes()"
      ],
      "metadata": {
        "id": "JsNYvvQhqDUm"
      },
      "execution_count": null,
      "outputs": []
    },
    {
      "cell_type": "code",
      "source": [
        "# Apply PCA\n",
        "def apply_pca(X, n_components):\n",
        "    pca = PCA(n_components=n_components)\n",
        "    X_pca = pca.fit_transform(X)\n",
        "    print(\"Variance of coefficients:\", pca.explained_variance_ratio_)\n",
        "    return X_pca"
      ],
      "metadata": {
        "id": "w6wko72VqFlF"
      },
      "execution_count": null,
      "outputs": []
    },
    {
      "cell_type": "code",
      "source": [
        "# Apply LDA\n",
        "def apply_lda(X, y, n_components):\n",
        "    lda = LinearDiscriminantAnalysis(n_components=n_components)\n",
        "    X_lda = lda.fit_transform(X, y)\n",
        "    return X_lda"
      ],
      "metadata": {
        "id": "KNhwlAU_0j54"
      },
      "execution_count": null,
      "outputs": []
    },
    {
      "cell_type": "code",
      "source": [
        "# Apply classification algorithms\n",
        "def apply_classifiers(X_train, X_test, y_train, y_test):\n",
        "    classifiers = {\n",
        "        \"KNN\": KNeighborsClassifier(),\n",
        "        \"Decision Tree\": DecisionTreeClassifier(),\n",
        "        \"Random Forest\": RandomForestClassifier()\n",
        "    }\n",
        "\n",
        "    for name, clf in classifiers.items():\n",
        "        clf.fit(X_train, y_train)\n",
        "        y_pred = clf.predict(X_test)\n",
        "\n",
        "        print(f\"\\nMetrics for {name}:\")\n",
        "        print(\"Accuracy:\", metrics.accuracy_score(y_test, y_pred))\n",
        "        print(\"Precision:\", metrics.precision_score(y_test, y_pred, average='weighted'))\n",
        "        print(\"Recall:\", metrics.recall_score(y_test, y_pred, average='weighted'))\n",
        "        print(\"F1 Score:\", metrics.f1_score(y_test, y_pred, average='weighted'))"
      ],
      "metadata": {
        "id": "mPpTyiqTqnuz"
      },
      "execution_count": null,
      "outputs": []
    },
    {
      "cell_type": "code",
      "source": [
        "# Breast Cancer dataset\n",
        "X_bc, y_bc = breast_cancer_data.data, breast_cancer_data.target\n",
        "X_bc = StandardScaler().fit_transform(X_bc)\n",
        "X_bc_pca = apply_pca(X_bc, n_components=2)\n",
        "X_bc_lda = apply_lda(X_bc, y_bc, n_components=1)\n"
      ],
      "metadata": {
        "colab": {
          "base_uri": "https://localhost:8080/"
        },
        "id": "ZjPE8O4Qq62Q",
        "outputId": "333d9695-bab8-41fc-a3bf-653f23481e6e"
      },
      "execution_count": null,
      "outputs": [
        {
          "output_type": "stream",
          "name": "stdout",
          "text": [
            "Variance of coefficients: [0.44272026 0.18971182]\n"
          ]
        }
      ]
    },
    {
      "cell_type": "code",
      "source": [
        "X_bc_train, X_bc_test, y_bc_train, y_bc_test = train_test_split(X_bc, y_bc, test_size=0.2, random_state=42)\n",
        "X_bc_pca_train, X_bc_pca_test, _, _ = train_test_split(X_bc_pca, y_bc, test_size=0.2, random_state=42)\n",
        "X_bc_lda_train, X_bc_lda_test, _, _ = train_test_split(X_bc_lda, y_bc, test_size=0.2, random_state=42)\n"
      ],
      "metadata": {
        "id": "DXJpKGYFq9Zi"
      },
      "execution_count": null,
      "outputs": []
    },
    {
      "cell_type": "code",
      "source": [
        "print(\"\\nBreast Cancer Dataset:\")\n",
        "apply_classifiers(X_bc_train, X_bc_test, y_bc_train, y_bc_test)\n",
        "apply_classifiers(X_bc_pca_train, X_bc_pca_test, y_bc_train, y_bc_test)\n",
        "apply_classifiers(X_bc_lda_train, X_bc_lda_test, y_bc_train, y_bc_test)"
      ],
      "metadata": {
        "colab": {
          "base_uri": "https://localhost:8080/"
        },
        "id": "YmC5I5xVrAWF",
        "outputId": "5e5622d7-dcb6-4411-ddda-19bdec27c752"
      },
      "execution_count": null,
      "outputs": [
        {
          "output_type": "stream",
          "name": "stdout",
          "text": [
            "\n",
            "Breast Cancer Dataset:\n",
            "\n",
            "Metrics for KNN:\n",
            "Accuracy: 0.9473684210526315\n",
            "Precision: 0.9473684210526315\n",
            "Recall: 0.9473684210526315\n",
            "F1 Score: 0.9473684210526315\n",
            "\n",
            "Metrics for Decision Tree:\n",
            "Accuracy: 0.9473684210526315\n",
            "Precision: 0.9473684210526315\n",
            "Recall: 0.9473684210526315\n",
            "F1 Score: 0.9473684210526315\n",
            "\n",
            "Metrics for Random Forest:\n",
            "Accuracy: 0.956140350877193\n",
            "Precision: 0.9560881370091896\n",
            "Recall: 0.956140350877193\n",
            "F1 Score: 0.9560357083576897\n",
            "\n",
            "Metrics for KNN:\n",
            "Accuracy: 0.9736842105263158\n",
            "Precision: 0.9739576213260425\n",
            "Recall: 0.9736842105263158\n",
            "F1 Score: 0.973742132293316\n",
            "\n",
            "Metrics for Decision Tree:\n",
            "Accuracy: 0.9736842105263158\n",
            "Precision: 0.97475106685633\n",
            "Recall: 0.9736842105263158\n",
            "F1 Score: 0.9734808562744625\n",
            "\n",
            "Metrics for Random Forest:\n",
            "Accuracy: 0.9736842105263158\n",
            "Precision: 0.9737190197716513\n",
            "Recall: 0.9736842105263158\n",
            "F1 Score: 0.9736214250146138\n",
            "\n",
            "Metrics for KNN:\n",
            "Accuracy: 0.9736842105263158\n",
            "Precision: 0.9739576213260425\n",
            "Recall: 0.9736842105263158\n",
            "F1 Score: 0.973742132293316\n",
            "\n",
            "Metrics for Decision Tree:\n",
            "Accuracy: 0.9736842105263158\n",
            "Precision: 0.9739576213260425\n",
            "Recall: 0.9736842105263158\n",
            "F1 Score: 0.973742132293316\n",
            "\n",
            "Metrics for Random Forest:\n",
            "Accuracy: 0.9736842105263158\n",
            "Precision: 0.9739576213260425\n",
            "Recall: 0.9736842105263158\n",
            "F1 Score: 0.973742132293316\n"
          ]
        }
      ]
    },
    {
      "cell_type": "code",
      "source": [
        "# Iris Dataset\n",
        "X_iris, y_iris = iris_data.data, iris_data.target\n",
        "X_iris = StandardScaler().fit_transform(X_iris)\n",
        "X_iris_pca = apply_pca(X_iris, n_components=2)\n",
        "X_iris_lda = apply_lda(X_iris, y_iris, n_components=1)"
      ],
      "metadata": {
        "colab": {
          "base_uri": "https://localhost:8080/"
        },
        "id": "-_wDSk1trD5Z",
        "outputId": "4f41c536-2485-4871-9a8e-05ab8982313b"
      },
      "execution_count": null,
      "outputs": [
        {
          "output_type": "stream",
          "name": "stdout",
          "text": [
            "Variance of coefficients: [0.72962445 0.22850762]\n"
          ]
        }
      ]
    },
    {
      "cell_type": "code",
      "source": [
        "X_iris_train, X_iris_test, y_iris_train, y_iris_test = train_test_split(X_iris, y_iris, test_size=0.2, random_state=42)\n",
        "X_iris_pca_train, X_iris_pca_test, _, _ = train_test_split(X_iris_pca, y_iris, test_size=0.2, random_state=42)\n",
        "X_iris_lda_train, X_iris_lda_test, _, _ = train_test_split(X_iris_lda, y_iris, test_size=0.2, random_state=42)\n"
      ],
      "metadata": {
        "id": "R_hG5q4muV1i"
      },
      "execution_count": null,
      "outputs": []
    },
    {
      "cell_type": "code",
      "source": [
        "print(\"\\nIris Dataset:\")\n",
        "apply_classifiers(X_iris_train, X_iris_test, y_iris_train, y_iris_test)\n",
        "apply_classifiers(X_iris_pca_train, X_iris_pca_test, y_iris_train, y_iris_test)\n",
        "apply_classifiers(X_iris_lda_train, X_iris_lda_test, y_iris_train, y_iris_test)\n"
      ],
      "metadata": {
        "colab": {
          "base_uri": "https://localhost:8080/"
        },
        "id": "yIQFkRoUuZzM",
        "outputId": "e4c52672-05fb-48ae-c276-aa948b393b38"
      },
      "execution_count": null,
      "outputs": [
        {
          "output_type": "stream",
          "name": "stdout",
          "text": [
            "\n",
            "Iris Dataset:\n",
            "\n",
            "Metrics for KNN:\n",
            "Accuracy: 1.0\n",
            "Precision: 1.0\n",
            "Recall: 1.0\n",
            "F1 Score: 1.0\n",
            "\n",
            "Metrics for Decision Tree:\n",
            "Accuracy: 1.0\n",
            "Precision: 1.0\n",
            "Recall: 1.0\n",
            "F1 Score: 1.0\n",
            "\n",
            "Metrics for Random Forest:\n",
            "Accuracy: 1.0\n",
            "Precision: 1.0\n",
            "Recall: 1.0\n",
            "F1 Score: 1.0\n",
            "\n",
            "Metrics for KNN:\n",
            "Accuracy: 0.9333333333333333\n",
            "Precision: 0.9333333333333333\n",
            "Recall: 0.9333333333333333\n",
            "F1 Score: 0.9333333333333333\n",
            "\n",
            "Metrics for Decision Tree:\n",
            "Accuracy: 0.9\n",
            "Precision: 0.9013888888888889\n",
            "Recall: 0.9\n",
            "F1 Score: 0.89923273657289\n",
            "\n",
            "Metrics for Random Forest:\n",
            "Accuracy: 0.9333333333333333\n",
            "Precision: 0.9333333333333333\n",
            "Recall: 0.9333333333333333\n",
            "F1 Score: 0.9333333333333333\n",
            "\n",
            "Metrics for KNN:\n",
            "Accuracy: 1.0\n",
            "Precision: 1.0\n",
            "Recall: 1.0\n",
            "F1 Score: 1.0\n",
            "\n",
            "Metrics for Decision Tree:\n",
            "Accuracy: 0.9666666666666667\n",
            "Precision: 0.9700000000000001\n",
            "Recall: 0.9666666666666667\n",
            "F1 Score: 0.966750208855472\n",
            "\n",
            "Metrics for Random Forest:\n",
            "Accuracy: 0.9666666666666667\n",
            "Precision: 0.9700000000000001\n",
            "Recall: 0.9666666666666667\n",
            "F1 Score: 0.966750208855472\n"
          ]
        }
      ]
    },
    {
      "cell_type": "code",
      "source": [
        "# Diabetes Dataset\n",
        "X_diabetes, y_diabetes = diabetes_data.data, diabetes_data.target\n",
        "X_diabetes = StandardScaler().fit_transform(X_diabetes)\n",
        "X_diabetes_pca = apply_pca(X_diabetes, n_components=2)\n",
        "X_diabetes_lda = apply_lda(X_diabetes, y_diabetes, n_components=1)\n"
      ],
      "metadata": {
        "colab": {
          "base_uri": "https://localhost:8080/"
        },
        "id": "1XBgSwWTvNWd",
        "outputId": "a10f4509-d8f1-4f7d-fe6c-d94cd856bffd"
      },
      "execution_count": null,
      "outputs": [
        {
          "output_type": "stream",
          "name": "stdout",
          "text": [
            "Variance of coefficients: [0.40242108 0.14923197]\n"
          ]
        }
      ]
    },
    {
      "cell_type": "code",
      "source": [
        "X_diabetes_train, X_diabetes_test, y_diabetes_train, y_diabetes_test = train_test_split(X_diabetes, y_diabetes, test_size=0.2, random_state=42)\n",
        "X_diabetes_pca_train, X_diabetes_pca_test, _, _ = train_test_split(X_diabetes_pca, y_diabetes, test_size=0.2, random_state=42)\n",
        "X_diabetes_lda_train, X_diabetes_lda_test, _, _ = train_test_split(X_diabetes_lda, y_diabetes, test_size=0.2, random_state=42)\n"
      ],
      "metadata": {
        "id": "esFeSXnSvPNt"
      },
      "execution_count": null,
      "outputs": []
    },
    {
      "cell_type": "code",
      "source": [
        "print(\"\\nDiabetes Dataset:\")\n",
        "apply_classifiers(X_diabetes_train, X_diabetes_test, y_diabetes_train, y_diabetes_test)\n",
        "apply_classifiers(X_diabetes_pca_train, X_diabetes_pca_test, y_diabetes_train, y_diabetes_test)\n",
        "apply_classifiers(X_diabetes_lda_train, X_diabetes_lda_test, y_diabetes_train, y_diabetes_test)"
      ],
      "metadata": {
        "colab": {
          "base_uri": "https://localhost:8080/"
        },
        "id": "daJgmZ0PvRcr",
        "outputId": "517e52d7-5e70-47c5-db5f-acc3e8c95f5d"
      },
      "execution_count": null,
      "outputs": [
        {
          "output_type": "stream",
          "name": "stdout",
          "text": [
            "\n",
            "Diabetes Dataset:\n",
            "\n",
            "Metrics for KNN:\n",
            "Accuracy: 0.0\n",
            "Precision: 0.0\n",
            "Recall: 0.0\n",
            "F1 Score: 0.0\n",
            "\n",
            "Metrics for Decision Tree:\n",
            "Accuracy: 0.0\n",
            "Precision: 0.0\n",
            "Recall: 0.0\n",
            "F1 Score: 0.0\n"
          ]
        },
        {
          "output_type": "stream",
          "name": "stderr",
          "text": [
            "/usr/local/lib/python3.10/dist-packages/sklearn/metrics/_classification.py:1344: UndefinedMetricWarning: Precision is ill-defined and being set to 0.0 in labels with no predicted samples. Use `zero_division` parameter to control this behavior.\n",
            "  _warn_prf(average, modifier, msg_start, len(result))\n",
            "/usr/local/lib/python3.10/dist-packages/sklearn/metrics/_classification.py:1344: UndefinedMetricWarning: Recall is ill-defined and being set to 0.0 in labels with no true samples. Use `zero_division` parameter to control this behavior.\n",
            "  _warn_prf(average, modifier, msg_start, len(result))\n",
            "/usr/local/lib/python3.10/dist-packages/sklearn/metrics/_classification.py:1344: UndefinedMetricWarning: Precision is ill-defined and being set to 0.0 in labels with no predicted samples. Use `zero_division` parameter to control this behavior.\n",
            "  _warn_prf(average, modifier, msg_start, len(result))\n",
            "/usr/local/lib/python3.10/dist-packages/sklearn/metrics/_classification.py:1344: UndefinedMetricWarning: Recall is ill-defined and being set to 0.0 in labels with no true samples. Use `zero_division` parameter to control this behavior.\n",
            "  _warn_prf(average, modifier, msg_start, len(result))\n"
          ]
        },
        {
          "output_type": "stream",
          "name": "stdout",
          "text": [
            "\n",
            "Metrics for Random Forest:\n",
            "Accuracy: 0.0\n",
            "Precision: 0.0\n",
            "Recall: 0.0\n",
            "F1 Score: 0.0\n",
            "\n",
            "Metrics for KNN:\n",
            "Accuracy: 0.0\n",
            "Precision: 0.0\n",
            "Recall: 0.0\n",
            "F1 Score: 0.0\n",
            "\n",
            "Metrics for Decision Tree:\n",
            "Accuracy: 0.011235955056179775\n",
            "Precision: 0.011235955056179775\n",
            "Recall: 0.011235955056179775\n",
            "F1 Score: 0.011235955056179775\n"
          ]
        },
        {
          "output_type": "stream",
          "name": "stderr",
          "text": [
            "/usr/local/lib/python3.10/dist-packages/sklearn/metrics/_classification.py:1344: UndefinedMetricWarning: Precision is ill-defined and being set to 0.0 in labels with no predicted samples. Use `zero_division` parameter to control this behavior.\n",
            "  _warn_prf(average, modifier, msg_start, len(result))\n",
            "/usr/local/lib/python3.10/dist-packages/sklearn/metrics/_classification.py:1344: UndefinedMetricWarning: Recall is ill-defined and being set to 0.0 in labels with no true samples. Use `zero_division` parameter to control this behavior.\n",
            "  _warn_prf(average, modifier, msg_start, len(result))\n",
            "/usr/local/lib/python3.10/dist-packages/sklearn/metrics/_classification.py:1344: UndefinedMetricWarning: Precision is ill-defined and being set to 0.0 in labels with no predicted samples. Use `zero_division` parameter to control this behavior.\n",
            "  _warn_prf(average, modifier, msg_start, len(result))\n",
            "/usr/local/lib/python3.10/dist-packages/sklearn/metrics/_classification.py:1344: UndefinedMetricWarning: Recall is ill-defined and being set to 0.0 in labels with no true samples. Use `zero_division` parameter to control this behavior.\n",
            "  _warn_prf(average, modifier, msg_start, len(result))\n",
            "/usr/local/lib/python3.10/dist-packages/sklearn/metrics/_classification.py:1344: UndefinedMetricWarning: Precision is ill-defined and being set to 0.0 in labels with no predicted samples. Use `zero_division` parameter to control this behavior.\n",
            "  _warn_prf(average, modifier, msg_start, len(result))\n",
            "/usr/local/lib/python3.10/dist-packages/sklearn/metrics/_classification.py:1344: UndefinedMetricWarning: Recall is ill-defined and being set to 0.0 in labels with no true samples. Use `zero_division` parameter to control this behavior.\n",
            "  _warn_prf(average, modifier, msg_start, len(result))\n"
          ]
        },
        {
          "output_type": "stream",
          "name": "stdout",
          "text": [
            "\n",
            "Metrics for Random Forest:\n",
            "Accuracy: 0.0\n",
            "Precision: 0.0\n",
            "Recall: 0.0\n",
            "F1 Score: 0.0\n",
            "\n",
            "Metrics for KNN:\n",
            "Accuracy: 0.011235955056179775\n",
            "Precision: 0.0044943820224719105\n",
            "Recall: 0.011235955056179775\n",
            "F1 Score: 0.006420545746388444\n",
            "\n",
            "Metrics for Decision Tree:\n",
            "Accuracy: 0.0\n",
            "Precision: 0.0\n",
            "Recall: 0.0\n",
            "F1 Score: 0.0\n"
          ]
        },
        {
          "output_type": "stream",
          "name": "stderr",
          "text": [
            "/usr/local/lib/python3.10/dist-packages/sklearn/metrics/_classification.py:1344: UndefinedMetricWarning: Precision is ill-defined and being set to 0.0 in labels with no predicted samples. Use `zero_division` parameter to control this behavior.\n",
            "  _warn_prf(average, modifier, msg_start, len(result))\n",
            "/usr/local/lib/python3.10/dist-packages/sklearn/metrics/_classification.py:1344: UndefinedMetricWarning: Recall is ill-defined and being set to 0.0 in labels with no true samples. Use `zero_division` parameter to control this behavior.\n",
            "  _warn_prf(average, modifier, msg_start, len(result))\n",
            "/usr/local/lib/python3.10/dist-packages/sklearn/metrics/_classification.py:1344: UndefinedMetricWarning: Precision is ill-defined and being set to 0.0 in labels with no predicted samples. Use `zero_division` parameter to control this behavior.\n",
            "  _warn_prf(average, modifier, msg_start, len(result))\n",
            "/usr/local/lib/python3.10/dist-packages/sklearn/metrics/_classification.py:1344: UndefinedMetricWarning: Recall is ill-defined and being set to 0.0 in labels with no true samples. Use `zero_division` parameter to control this behavior.\n",
            "  _warn_prf(average, modifier, msg_start, len(result))\n",
            "/usr/local/lib/python3.10/dist-packages/sklearn/metrics/_classification.py:1344: UndefinedMetricWarning: Precision is ill-defined and being set to 0.0 in labels with no predicted samples. Use `zero_division` parameter to control this behavior.\n",
            "  _warn_prf(average, modifier, msg_start, len(result))\n",
            "/usr/local/lib/python3.10/dist-packages/sklearn/metrics/_classification.py:1344: UndefinedMetricWarning: Recall is ill-defined and being set to 0.0 in labels with no true samples. Use `zero_division` parameter to control this behavior.\n",
            "  _warn_prf(average, modifier, msg_start, len(result))\n"
          ]
        },
        {
          "output_type": "stream",
          "name": "stdout",
          "text": [
            "\n",
            "Metrics for Random Forest:\n",
            "Accuracy: 0.0\n",
            "Precision: 0.0\n",
            "Recall: 0.0\n",
            "F1 Score: 0.0\n"
          ]
        },
        {
          "output_type": "stream",
          "name": "stderr",
          "text": [
            "/usr/local/lib/python3.10/dist-packages/sklearn/metrics/_classification.py:1344: UndefinedMetricWarning: Precision is ill-defined and being set to 0.0 in labels with no predicted samples. Use `zero_division` parameter to control this behavior.\n",
            "  _warn_prf(average, modifier, msg_start, len(result))\n",
            "/usr/local/lib/python3.10/dist-packages/sklearn/metrics/_classification.py:1344: UndefinedMetricWarning: Recall is ill-defined and being set to 0.0 in labels with no true samples. Use `zero_division` parameter to control this behavior.\n",
            "  _warn_prf(average, modifier, msg_start, len(result))\n"
          ]
        }
      ]
    }
  ]
}